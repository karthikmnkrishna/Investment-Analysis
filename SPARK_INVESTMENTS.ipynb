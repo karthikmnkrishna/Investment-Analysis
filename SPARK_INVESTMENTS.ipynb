{
  "nbformat": 4,
  "nbformat_minor": 0,
  "metadata": {
    "colab": {
      "name": "SPARK_INVESTMENTS.ipynb",
      "provenance": [],
      "collapsed_sections": [],
      "toc_visible": true
    },
    "kernelspec": {
      "display_name": "Python 3",
      "language": "python",
      "name": "python3"
    },
    "language_info": {
      "codemirror_mode": {
        "name": "ipython",
        "version": 3
      },
      "file_extension": ".py",
      "mimetype": "text/x-python",
      "name": "python",
      "nbconvert_exporter": "python",
      "pygments_lexer": "ipython3",
      "version": "3.7.6"
    }
  },
  "cells": [
    {
      "cell_type": "markdown",
      "metadata": {
        "colab_type": "text",
        "id": "v8xZFcQGsZnL"
      },
      "source": [
        "# **INVESTMENT ASSIGNMENT**\n"
      ]
    },
    {
      "cell_type": "markdown",
      "metadata": {
        "colab_type": "text",
        "id": "9QFB9Kogswvp"
      },
      "source": [
        "## **CHECKPOINT 1 : DATA CLEANING**"
      ]
    },
    {
      "cell_type": "markdown",
      "metadata": {
        "colab_type": "text",
        "id": "WlAv39tNs8TS"
      },
      "source": [
        "I'm starting by importing the required libraries/modules and files into dataframes<br>\n",
        "I have used Google colab to build this notebook.If there are formating issues when you try to access the file from other IDE's ,please refer to the html file."
      ]
    },
    {
      "cell_type": "code",
      "metadata": {
        "colab_type": "code",
        "id": "sVntjuotrcnL",
        "colab": {
          "base_uri": "https://localhost:8080/",
          "height": 54
        },
        "outputId": "be298b19-3787-4dfd-8cf5-bd8a18abee5c"
      },
      "source": [
        "import pandas as pd\n",
        "import numpy as np\n",
        "import matplotlib.pyplot as plt\n",
        "import pprint \n",
        "from tabulate import tabulate\n",
        "import seaborn as sns\n",
        "#FILES IMPORT  \n",
        "companies_file_path = 'companies.csv'\n",
        "rounds2_file_path = 'rounds2.csv'\n",
        "mapping_file_path = 'mapping.csv'\n",
        "companies = pd.read_csv(companies_file_path,encoding='ISO-8859-1')\n",
        "rounds2 = pd.read_csv(rounds2_file_path,encoding='ISO-8859-1')\n",
        "mapping = pd.read_csv(mapping_file_path)\n",
        "\n",
        "#Initial analysis -HIDDEN , AS THE BELOW STEPS ARE FOR MY UNDERSTANDING . \n",
        "#THE BELOW STEPS ARE REPEATED PERENNIALLY UNTIL DATA IS UNDERSTOOD & CLEANED.\n",
        "\n",
        "#companies.head()\n",
        "#companies.info()\n",
        "#companies.describe()\n",
        "#rounds2.head()\n",
        "#rounds2.info()\n",
        "\n",
        "#after analysis the 2 columns -permalink & company_permalink have irregular casing - changing the casing to lower case.\n",
        "\n",
        "companies.permalink = companies.permalink.str.lower()\n",
        "rounds2.company_permalink =rounds2.company_permalink.str.lower()"
      ],
      "execution_count": 1,
      "outputs": [
        {
          "output_type": "stream",
          "text": [
            "/usr/local/lib/python3.6/dist-packages/statsmodels/tools/_testing.py:19: FutureWarning: pandas.util.testing is deprecated. Use the functions in the public API at pandas.testing instead.\n",
            "  import pandas.util.testing as tm\n"
          ],
          "name": "stderr"
        }
      ]
    },
    {
      "cell_type": "markdown",
      "metadata": {
        "colab_type": "text",
        "id": "AGPfvWBM5pFX"
      },
      "source": [
        "### 2. DATA ANALYSIS"
      ]
    },
    {
      "cell_type": "markdown",
      "metadata": {
        "colab_type": "text",
        "id": "7SZS4kav9fYf"
      },
      "source": [
        "1 .How many unique companies are present in rounds2?\t \n",
        "2 .How many unique companies are present in companies?"
      ]
    },
    {
      "cell_type": "code",
      "metadata": {
        "colab_type": "code",
        "id": "qHReKyeRvQXw",
        "outputId": "e8badcb3-99f1-47dd-969c-49b042a3017c",
        "colab": {
          "base_uri": "https://localhost:8080/",
          "height": 54
        }
      },
      "source": [
        "distinct_companies = len(companies.permalink.unique())\n",
        "distinct_rounds_comapny = len(rounds2.company_permalink.unique())\n",
        "print('How many unique companies are present in companies ? ' + str(distinct_companies)  \n",
        " + '\\nHow many unique companies are present in rounds2 ? '+ str(distinct_rounds_comapny))"
      ],
      "execution_count": 2,
      "outputs": [
        {
          "output_type": "stream",
          "text": [
            "How many unique companies are present in companies ? 66368\n",
            "How many unique companies are present in rounds2 ? 66370\n"
          ],
          "name": "stdout"
        }
      ]
    },
    {
      "cell_type": "markdown",
      "metadata": {
        "colab_type": "text",
        "id": "EKh4GLY49lM_"
      },
      "source": [
        "3. In the companies data frame, which column can be used as the unique key for each company? Write the name of the column.\n",
        "\n",
        "answer : Going by companies data analysis as below , permalink would be the most suitable unique key as it seems to be the primary key . Moreover , it is the unique id for comapnies"
      ]
    },
    {
      "cell_type": "code",
      "metadata": {
        "colab_type": "code",
        "id": "HmQ62216aO_F",
        "outputId": "d5f9b9e9-a6c9-4e07-d95f-eacabf531f7e",
        "colab": {
          "base_uri": "https://localhost:8080/",
          "height": 329
        }
      },
      "source": [
        "companies.info()"
      ],
      "execution_count": 3,
      "outputs": [
        {
          "output_type": "stream",
          "text": [
            "<class 'pandas.core.frame.DataFrame'>\n",
            "RangeIndex: 66368 entries, 0 to 66367\n",
            "Data columns (total 10 columns):\n",
            " #   Column         Non-Null Count  Dtype \n",
            "---  ------         --------------  ----- \n",
            " 0   permalink      66368 non-null  object\n",
            " 1   name           66367 non-null  object\n",
            " 2   homepage_url   61310 non-null  object\n",
            " 3   category_list  63220 non-null  object\n",
            " 4   status         66368 non-null  object\n",
            " 5   country_code   59410 non-null  object\n",
            " 6   state_code     57821 non-null  object\n",
            " 7   region         58338 non-null  object\n",
            " 8   city           58340 non-null  object\n",
            " 9   founded_at     51147 non-null  object\n",
            "dtypes: object(10)\n",
            "memory usage: 5.1+ MB\n"
          ],
          "name": "stdout"
        }
      ]
    },
    {
      "cell_type": "markdown",
      "metadata": {
        "colab_type": "text",
        "id": "9pjjahF_Aiew"
      },
      "source": [
        "4. Are there any companies in the rounds2 file which are not present in companies? Answer yes or no: Y/N"
      ]
    },
    {
      "cell_type": "code",
      "metadata": {
        "colab_type": "code",
        "id": "1r5chR0h4qR4",
        "outputId": "c1643229-b6ac-44da-da2f-e9559337e182",
        "colab": {
          "base_uri": "https://localhost:8080/",
          "height": 35
        }
      },
      "source": [
        "if len(rounds2[(~rounds2.company_permalink.isin(companies.permalink))]) >0:\n",
        "  print('Y')\n",
        "else:\n",
        "  print('N')"
      ],
      "execution_count": 4,
      "outputs": [
        {
          "output_type": "stream",
          "text": [
            "Y\n"
          ],
          "name": "stdout"
        }
      ]
    },
    {
      "cell_type": "markdown",
      "metadata": {
        "colab_type": "text",
        "id": "BtAaF2KKDpDo"
      },
      "source": [
        "5. Merge the two data frames so that all variables (columns) in the companies frame are added to the rounds2 data frame. Name the merged frame master_frame. How many observations are present in master_frame?"
      ]
    },
    {
      "cell_type": "code",
      "metadata": {
        "colab_type": "code",
        "id": "16umBEEBA44r",
        "outputId": "bbdd2758-b9b2-401b-bceb-36928d9e24d6",
        "colab": {
          "base_uri": "https://localhost:8080/",
          "height": 35
        }
      },
      "source": [
        "master_frame =pd.merge(rounds2,companies , how = 'left',left_on= 'company_permalink' ,right_on= 'permalink')\n",
        "print('Total records are :' , master_frame.shape[0])"
      ],
      "execution_count": 5,
      "outputs": [
        {
          "output_type": "stream",
          "text": [
            "Total records are : 114949\n"
          ],
          "name": "stdout"
        }
      ]
    },
    {
      "cell_type": "markdown",
      "metadata": {
        "colab_type": "text",
        "id": "NYLoCrBRgrx6"
      },
      "source": [
        "### DATA CLEANING"
      ]
    },
    {
      "cell_type": "code",
      "metadata": {
        "colab_type": "code",
        "id": "cFfKvXgvkw2b",
        "outputId": "205a54b7-7f86-4dc5-cf29-ebd9041cb89b",
        "colab": {
          "base_uri": "https://localhost:8080/",
          "height": 439
        }
      },
      "source": [
        "master_frame.info()"
      ],
      "execution_count": 6,
      "outputs": [
        {
          "output_type": "stream",
          "text": [
            "<class 'pandas.core.frame.DataFrame'>\n",
            "Int64Index: 114949 entries, 0 to 114948\n",
            "Data columns (total 16 columns):\n",
            " #   Column                   Non-Null Count   Dtype  \n",
            "---  ------                   --------------   -----  \n",
            " 0   company_permalink        114949 non-null  object \n",
            " 1   funding_round_permalink  114949 non-null  object \n",
            " 2   funding_round_type       114949 non-null  object \n",
            " 3   funding_round_code       31140 non-null   object \n",
            " 4   funded_at                114949 non-null  object \n",
            " 5   raised_amount_usd        94959 non-null   float64\n",
            " 6   permalink                114942 non-null  object \n",
            " 7   name                     114941 non-null  object \n",
            " 8   homepage_url             108810 non-null  object \n",
            " 9   category_list            111535 non-null  object \n",
            " 10  status                   114942 non-null  object \n",
            " 11  country_code             106271 non-null  object \n",
            " 12  state_code               104003 non-null  object \n",
            " 13  region                   104782 non-null  object \n",
            " 14  city                     104785 non-null  object \n",
            " 15  founded_at               94422 non-null   object \n",
            "dtypes: float64(1), object(15)\n",
            "memory usage: 14.9+ MB\n"
          ],
          "name": "stdout"
        }
      ]
    },
    {
      "cell_type": "markdown",
      "metadata": {
        "colab_type": "text",
        "id": "N6YSypvJUafg"
      },
      "source": [
        "Removing rows with null values <br>\n",
        "Removing permalink as it seems to be duplicate and funding_round_code as 70% of data is null<br>\n",
        "Removing columns that might be unnecessay for analysis and have null values\n"
      ]
    },
    {
      "cell_type": "code",
      "metadata": {
        "colab_type": "code",
        "id": "f6sGIdMYgqji",
        "outputId": "78d1479a-901d-4d71-dc25-67a4560f7723",
        "colab": {
          "base_uri": "https://localhost:8080/",
          "height": 311
        }
      },
      "source": [
        "master_frame = master_frame[~master_frame.permalink.isna()]\n",
        "master_frame = master_frame[~master_frame.country_code.isna()]\n",
        "master_frame = master_frame[~master_frame.raised_amount_usd.isna()]\n",
        "master_frame = master_frame[~master_frame.category_list.isna()]\n",
        "master_frame.drop(['funding_round_code','permalink'] , axis =1,inplace = True)#\n",
        "master_frame.drop(['founded_at','homepage_url','state_code','region','city'] ,axis=1 ,inplace =True) \n",
        "master_frame.info()\n",
        "#the above code gives us all the required columns with no null values .We have retained ~78% of data."
      ],
      "execution_count": 7,
      "outputs": [
        {
          "output_type": "stream",
          "text": [
            "<class 'pandas.core.frame.DataFrame'>\n",
            "Int64Index: 88529 entries, 0 to 114947\n",
            "Data columns (total 9 columns):\n",
            " #   Column                   Non-Null Count  Dtype  \n",
            "---  ------                   --------------  -----  \n",
            " 0   company_permalink        88529 non-null  object \n",
            " 1   funding_round_permalink  88529 non-null  object \n",
            " 2   funding_round_type       88529 non-null  object \n",
            " 3   funded_at                88529 non-null  object \n",
            " 4   raised_amount_usd        88529 non-null  float64\n",
            " 5   name                     88528 non-null  object \n",
            " 6   category_list            88529 non-null  object \n",
            " 7   status                   88529 non-null  object \n",
            " 8   country_code             88529 non-null  object \n",
            "dtypes: float64(1), object(8)\n",
            "memory usage: 6.8+ MB\n"
          ],
          "name": "stdout"
        }
      ]
    },
    {
      "cell_type": "markdown",
      "metadata": {
        "colab_type": "text",
        "id": "Gt2s3cGzBREd"
      },
      "source": [
        "## CHECKPOINT 2 - FUNDING TYPE ANALYSIS"
      ]
    },
    {
      "cell_type": "markdown",
      "metadata": {
        "colab_type": "text",
        "id": "jYlBk_1UVyaf"
      },
      "source": [
        "\n",
        "1.Average funding amount of venture type<br>\n",
        "2.Average funding amount of angel type<br>\n",
        "3.Average funding amount of seed type<br>\n",
        "4.Average funding amount of private equity type\n",
        "\n",
        "\n",
        "\n",
        "\n",
        "\n"
      ]
    },
    {
      "cell_type": "code",
      "metadata": {
        "colab_type": "code",
        "id": "rGDQOokZK4x6",
        "outputId": "9d964af0-a646-43d0-8c41-ec13f94278d8",
        "colab": {
          "base_uri": "https://localhost:8080/",
          "height": 109
        }
      },
      "source": [
        "#grouping the master frame by funding type\n",
        "group =master_frame.groupby('funding_round_type').agg(\n",
        "    average_funding =('raised_amount_usd',  'mean'))\n",
        "#filtering the required stages\n",
        "group = group[group.index.isin( ['angel','venture','seed','private_equity'])]\n",
        "group = group.reset_index().round(2)\n",
        "pp = pprint.PrettyPrinter(indent=4)\n",
        "\n",
        "#formating data to make it easier to plot(checkpoint 6 plot 1)\n",
        "\n",
        "group1 = master_frame[master_frame.funding_round_type.isin( ['angel','venture','seed','private_equity'])].groupby('funding_round_type').agg(\n",
        "    total_funding =('raised_amount_usd',  'sum'), total_count = ('raised_amount_usd',  'count')).reset_index()\n",
        "\n",
        "\n",
        "pp.pprint(group)"
      ],
      "execution_count": 8,
      "outputs": [
        {
          "output_type": "stream",
          "text": [
            "  funding_round_type  average_funding\n",
            "0              angel        971573.89\n",
            "1     private_equity      73938486.28\n",
            "2               seed        747793.68\n",
            "3            venture      11724222.69\n"
          ],
          "name": "stdout"
        }
      ]
    },
    {
      "cell_type": "markdown",
      "metadata": {
        "colab_type": "text",
        "id": "GhGM-MjCWjPa"
      },
      "source": [
        "Confirming the results we got above\n"
      ]
    },
    {
      "cell_type": "code",
      "metadata": {
        "colab_type": "code",
        "id": "RBsa0FHHQOLe",
        "outputId": "6000e9ef-ab51-49bf-89d6-b7d7fd6dd43f",
        "colab": {
          "base_uri": "https://localhost:8080/",
          "height": 90
        }
      },
      "source": [
        "print('average venture funding '+ str(round(np.mean(master_frame[master_frame['funding_round_type']=='venture' ]['raised_amount_usd']),2) ) \n",
        "+ '\\naverage seed funding ' + str(round(np.mean(master_frame[master_frame['funding_round_type']=='seed' ]['raised_amount_usd']),2))\n",
        "+ '\\naverage private equity funding ' + str(round(np.mean(master_frame[master_frame['funding_round_type']=='private_equity' ]['raised_amount_usd']),2))\n",
        "+'\\naverage angel funding ' + str(round(np.mean(master_frame[master_frame['funding_round_type']=='angel' ]['raised_amount_usd']),2))\n",
        ")"
      ],
      "execution_count": 9,
      "outputs": [
        {
          "output_type": "stream",
          "text": [
            "average venture funding 11724222.69\n",
            "average seed funding 747793.68\n",
            "average private equity funding 73938486.28\n",
            "average angel funding 971573.89\n"
          ],
          "name": "stdout"
        }
      ]
    },
    {
      "cell_type": "markdown",
      "metadata": {
        "colab_type": "text",
        "id": "xXAZ_kk6YlEw"
      },
      "source": [
        "Q:Considering that Spark Funds wants to invest between 5 to 15 million USD per  investment round, which investment type is the most suitable for them?<br>\n",
        "A: Since spark funds wants to invest between 5 million to 15 million USD, as per our data , we can conclude that venture type is the best option .The average funding that venture type firms have received is 11 million USD ,which seems to fit spark funds bill .\n"
      ]
    },
    {
      "cell_type": "code",
      "metadata": {
        "colab_type": "code",
        "id": "F2JGXsOCZN9b",
        "colab": {}
      },
      "source": [
        "master_frame =master_frame[ (master_frame.funding_round_type=='venture')]"
      ],
      "execution_count": 0,
      "outputs": []
    },
    {
      "cell_type": "markdown",
      "metadata": {
        "colab_type": "text",
        "id": "zuJ0rIBdYzOF"
      },
      "source": [
        "## CHECKPOINT 3 : Country Analysis"
      ]
    },
    {
      "cell_type": "markdown",
      "metadata": {
        "colab_type": "text",
        "id": "u30bN9HiKm1w"
      },
      "source": [
        "Top English speaking country<br>\n",
        "Second English speaking country<br>\n",
        "Third English speaking country\n"
      ]
    },
    {
      "cell_type": "code",
      "metadata": {
        "colab_type": "code",
        "id": "WFMPvspjs9-z",
        "outputId": "199e4f5d-cdff-4eac-95a7-f09b9ac3572f",
        "colab": {
          "base_uri": "https://localhost:8080/",
          "height": 219
        }
      },
      "source": [
        "pd.options.display.float_format = '{:,.2f}'.format #to get the complete number for total funding\n",
        "top9 = master_frame.groupby('country_code').agg(\n",
        "    total_funding = ('raised_amount_usd','sum')).sort_values(by = \n",
        "    'total_funding',ascending= False).iloc[0:9]\n",
        "print(top9)"
      ],
      "execution_count": 11,
      "outputs": [
        {
          "output_type": "stream",
          "text": [
            "                  total_funding\n",
            "country_code                   \n",
            "USA          420,068,029,342.00\n",
            "CHN           39,338,918,773.00\n",
            "GBR           20,072,813,004.00\n",
            "IND           14,261,508,718.00\n",
            "CAN            9,482,217,668.00\n",
            "FRA            7,226,851,352.00\n",
            "ISR            6,854,350,477.00\n",
            "DEU            6,306,921,981.00\n",
            "JPN            3,167,647,127.00\n"
          ],
          "name": "stdout"
        }
      ]
    },
    {
      "cell_type": "code",
      "metadata": {
        "colab_type": "code",
        "id": "p2SaWfR1MxQZ",
        "colab": {}
      },
      "source": [
        "#Filtering IND, USA and GBR as they are english speaking countries with highest investments\n",
        "master_frame = master_frame[(master_frame.country_code == 'USA') | (master_frame.country_code == 'GBR')\n",
        "                            | (master_frame.country_code =='IND')]  "
      ],
      "execution_count": 0,
      "outputs": []
    },
    {
      "cell_type": "markdown",
      "metadata": {
        "colab_type": "text",
        "id": "SXMivoYMK0U0"
      },
      "source": [
        "## CHECKPOINT 4 : SECTOR ANALYSIS"
      ]
    },
    {
      "cell_type": "markdown",
      "metadata": {
        "colab_type": "text",
        "id": "6ZcK5hrZEeh_"
      },
      "source": [
        "### Cleaning Mapping data\n"
      ]
    },
    {
      "cell_type": "code",
      "metadata": {
        "colab_type": "code",
        "id": "McsCQtlJAjko",
        "outputId": "81e3d0a9-dd75-43eb-d8b5-8d6c7ef5c40f",
        "colab": {
          "base_uri": "https://localhost:8080/",
          "height": 990
        }
      },
      "source": [
        "master_frame['primary_sector']=master_frame.category_list.str.split('|').str[0] #creating primary sector column as per logic\n",
        "#filtering the values that are not in masterframe and checking for any ambiguous values\n",
        "mapclean = mapping[~mapping.category_list.isin(master_frame.primary_sector)]['category_list'].dropna()\n",
        "#print(mapclean)\n",
        "print(mapclean[mapclean.str.contains('0')])"
      ],
      "execution_count": 13,
      "outputs": [
        {
          "output_type": "stream",
          "text": [
            "20              Alter0tive Medicine\n",
            "22                         A0lytics\n",
            "59                Big Data A0lytics\n",
            "79                Business A0lytics\n",
            "89                          Can0bis\n",
            "91                 Career Ma0gement\n",
            "103                   Chi0 Internet\n",
            "114                 Cloud Ma0gement\n",
            "145               Contact Ma0gement\n",
            "198        Digital Rights Ma0gement\n",
            "199                  Digital Sig0ge\n",
            "210              Document Ma0gement\n",
            "223                Educatio0l Games\n",
            "240                Energy Ma0gement\n",
            "256                 Event Ma0gement\n",
            "273                          Fi0nce\n",
            "274               Fi0nce Technology\n",
            "275              Fi0ncial Exchanges\n",
            "276               Fi0ncial Services\n",
            "281                 Fleet Ma0gement\n",
            "310                       Gover0nce\n",
            "353              Identity Ma0gement\n",
            "370            Innovation Ma0gement\n",
            "372    Intellectual Asset Ma0gement\n",
            "384            Investment Ma0gement\n",
            "389                    IT Ma0gement\n",
            "391                       Jour0lism\n",
            "394             Knowledge Ma0gement\n",
            "400                  Lead Ma0gement\n",
            "437            Medical Professio0ls\n",
            "448                 Mobile A0lytics\n",
            "471                   0notechnology\n",
            "472      0tural Language Processing\n",
            "473                0tural Resources\n",
            "474                       0vigation\n",
            "514                Perso0l Branding\n",
            "515                    Perso0l Data\n",
            "516                  Perso0l Fi0nce\n",
            "517                  Perso0l Health\n",
            "518                  Perso0lization\n",
            "534             Predictive A0lytics\n",
            "546          Professio0l Networking\n",
            "547            Professio0l Services\n",
            "548               Project Ma0gement\n",
            "549                      Promotio0l\n",
            "550              Property Ma0gement\n",
            "575                  Risk Ma0gement\n",
            "612          Social Media Ma0gement\n",
            "633          Supply Chain Ma0gement\n",
            "637                  Task Ma0gement\n",
            "664                       Veteri0ry\n",
            "672                 Waste Ma0gement\n",
            "Name: category_list, dtype: object\n"
          ],
          "name": "stdout"
        }
      ]
    },
    {
      "cell_type": "markdown",
      "metadata": {
        "colab_type": "text",
        "id": "Dxs-IuG0Ep7J"
      },
      "source": [
        "We are observing lot of 0's that can be replaced by na"
      ]
    },
    {
      "cell_type": "code",
      "metadata": {
        "colab_type": "code",
        "id": "v7uBs1tbAwlo",
        "colab": {}
      },
      "source": [
        "mapping.category_list =  mapping.category_list.str.replace('0','na',regex=True)"
      ],
      "execution_count": 0,
      "outputs": []
    },
    {
      "cell_type": "code",
      "metadata": {
        "colab_type": "code",
        "id": "6BVkblQIBEy9",
        "outputId": "18da1158-ced4-44e1-f3b1-26e1fc20b542",
        "colab": {
          "base_uri": "https://localhost:8080/",
          "height": 1000
        }
      },
      "source": [
        "mapclean = mapping[~mapping.category_list.isin(master_frame.primary_sector)]['category_list'].dropna()\n",
        "pd.set_option('display.max_rows',500)\n",
        "print(mapclean)"
      ],
      "execution_count": 15,
      "outputs": [
        {
          "output_type": "stream",
          "text": [
            "16           Air Pollution Control\n",
            "33                     Aquaculture\n",
            "49            B2B Express Delivery\n",
            "64        Biomass Power Generation\n",
            "69                Boating Industry\n",
            "77                 Building Owners\n",
            "85              Business Travelers\n",
            "94                    Casual Games\n",
            "97                       Charities\n",
            "103                 China Internet\n",
            "104                Civil Engineers\n",
            "110              Cloud-Based Music\n",
            "119                   Collectibles\n",
            "200             Direct Advertising\n",
            "224                    Edutainment\n",
            "232              Email Newsletters\n",
            "241                 Energy Storage\n",
            "243                Enterprise 2.na\n",
            "260               Face Recognition\n",
            "264                 Farmers Market\n",
            "268         Field Support Services\n",
            "271              Film Distribution\n",
            "272                Film Production\n",
            "279                    Flash Sales\n",
            "282                        Flowers\n",
            "283                           Fmcg\n",
            "285                         Forums\n",
            "290                          Fruit\n",
            "291                     Fuel Cells\n",
            "293               Funeral Industry\n",
            "302                  Gay & Lesbian\n",
            "303       General Public Worldwide\n",
            "304                Genetic Testing\n",
            "311          Government Innovation\n",
            "315                          Green\n",
            "318                   Group Buying\n",
            "319                      Group SMS\n",
            "321                       Handmade\n",
            "332                    Hedge Funds\n",
            "333           High School Students\n",
            "334                   High Schools\n",
            "339                    Home Owners\n",
            "340                Home Renovation\n",
            "342               Homeless Shelter\n",
            "351                            ICT\n",
            "355               Impact Investing\n",
            "359       Independent Music Labels\n",
            "361                        Indians\n",
            "390                        Jewelry\n",
            "392                 K-12 Education\n",
            "395                    Landscaping\n",
            "396              Language Learning\n",
            "403                      Licensing\n",
            "407             Lifestyle Products\n",
            "415                 Local Commerce\n",
            "420                      Lotteries\n",
            "421               Low Bid Auctions\n",
            "437          Medical Professionals\n",
            "442              Micro-Enterprises\n",
            "443                  MicroBlogging\n",
            "444                       Minerals\n",
            "457                Mobile Shopping\n",
            "458                  Mobile Social\n",
            "459          Mobile Software Tools\n",
            "460                   Mobile Video\n",
            "462                   Monetization\n",
            "463                    Moneymaking\n",
            "464          Multi-level Marketing\n",
            "466                Music Education\n",
            "467                 Music Services\n",
            "469            Musical Instruments\n",
            "470                      Musicians\n",
            "471                 nanotechnology\n",
            "472    natural Language Processing\n",
            "473              natural Resources\n",
            "474                     navigation\n",
            "477                   Neuroscience\n",
            "478        New Product Development\n",
            "488                    Oil and Gas\n",
            "489                  Online Dating\n",
            "498       Online Video Advertising\n",
            "503                        Organic\n",
            "509                      Parenting\n",
            "513          Performance Marketing\n",
            "514              Personal Branding\n",
            "515                  Personal Data\n",
            "517                Personal Health\n",
            "519            Pervasive Computing\n",
            "527                       Plumbers\n",
            "532    Postal and Courier Services\n",
            "533                       Pre Seed\n",
            "534           Predictive Analytics\n",
            "540      Private Social Networking\n",
            "544                   Productivity\n",
            "549                    Promotional\n",
            "555                            Q&A\n",
            "559                       Realtors\n",
            "565                 Renewable Tech\n",
            "566                 Rental Housing\n",
            "574                   Ride Sharing\n",
            "586                  Senior Health\n",
            "593                Shared Services\n",
            "594                       Shipping\n",
            "595                          Shoes\n",
            "596                       Shopping\n",
            "597                     Simulation\n",
            "599    Small and Medium Businesses\n",
            "600                     Smart Grid\n",
            "601                            SNS\n",
            "604             Social Bookmarking\n",
            "605                Social Business\n",
            "610                   Social Games\n",
            "612        Social Media Management\n",
            "614         Social Media Platforms\n",
            "616                    Social News\n",
            "617              Social Recruiting\n",
            "618              Social Television\n",
            "619                  Social Travel\n",
            "625             Speech Recognition\n",
            "630                Stock Exchanges\n",
            "632           Subscription Service\n",
            "634                        Surveys\n",
            "638                          Taxis\n",
            "639                            Tea\n",
            "647                        Tourism\n",
            "655                   Universities\n",
            "656            University Students\n",
            "657           Unmanned Air Systems\n",
            "658                      Usability\n",
            "659         User Experience Design\n",
            "662        Vending and Concessions\n",
            "664                     Veterinary\n",
            "669                Video Streaming\n",
            "670             Virtual Workforces\n",
            "682                       Weddings\n",
            "683                      Wholesale\n",
            "686                          Women\n",
            "Name: category_list, dtype: object\n"
          ],
          "name": "stdout"
        }
      ]
    },
    {
      "cell_type": "code",
      "metadata": {
        "colab_type": "code",
        "id": "seFr61WaEyR2",
        "outputId": "2831dc7a-5acd-4b0c-9421-855663614601",
        "colab": {
          "base_uri": "https://localhost:8080/",
          "height": 164
        }
      },
      "source": [
        "pd.set_option('display.max_rows',500)\n",
        "print(master_frame[master_frame.primary_sector.str.contains('Enterprise')]['primary_sector'].unique())\n",
        "map_na = mapping.dropna()\n",
        "print(map_na[map_na.category_list.str.contains('Enterprise')]['category_list'].unique())"
      ],
      "execution_count": 16,
      "outputs": [
        {
          "output_type": "stream",
          "text": [
            "['Enterprise Software' 'Enterprises' 'Enterprise Search' 'Enterprise 2.0'\n",
            " 'Enterprise Application' 'Mobile Enterprise'\n",
            " 'Enterprise Resource Planning' 'Enterprise Security'\n",
            " 'Enterprise Purchasing']\n",
            "['Enterprise 2.na' 'Enterprise Application' 'Enterprise Purchasing'\n",
            " 'Enterprise Resource Planning' 'Enterprise Search' 'Enterprise Security'\n",
            " 'Enterprise Software' 'Enterprises' 'Micro-Enterprises'\n",
            " 'Mobile Enterprise']\n"
          ],
          "name": "stdout"
        }
      ]
    },
    {
      "cell_type": "markdown",
      "metadata": {
        "colab_type": "text",
        "id": "ckXaXhv9Iqb_"
      },
      "source": [
        "Apart from enterprise 2.na , other values look clean . From master frame - category list, it is evident that Enterprise 2.na in mapping dataframe can be replaced by Enterprise 2.0 .The rest are already there on mapping table/df"
      ]
    },
    {
      "cell_type": "code",
      "metadata": {
        "colab_type": "code",
        "id": "T1fMZ9m_Ip9o",
        "colab": {}
      },
      "source": [
        "mapping.category_list =  mapping.category_list.str.replace('2.na','2.0',regex=True)"
      ],
      "execution_count": 0,
      "outputs": []
    },
    {
      "cell_type": "markdown",
      "metadata": {
        "colab_type": "text",
        "id": "-6Z1zSYmN6wv"
      },
      "source": [
        "### Merging Data Frames"
      ]
    },
    {
      "cell_type": "code",
      "metadata": {
        "colab_type": "code",
        "id": "W3wyqcnHGCaj",
        "colab": {}
      },
      "source": [
        "#melting data to get the required format\n",
        "mapm = pd.melt(mapping, id_vars=['category_list'], value_vars=['Automotive & Sports', 'Blanks',\n",
        "       'Cleantech / Semiconductors', 'Entertainment', 'Health',\n",
        "       'Manufacturing', 'News, Search and Messaging', 'Others',\n",
        "       'Social, Finance, Analytics, Advertising'],var_name = 'main_sector')\n",
        "mapm = mapm[mapm.value == 1]\n",
        "#master_frame['primary_sector']=master_frame.category_list.str.split('|').str[0]\n",
        "master_frame =pd.merge(master_frame , mapm, how = 'left' , left_on = 'primary_sector' ,right_on = 'category_list' )\n",
        "master_frame.drop(['category_list_y','value','funding_round_permalink'],axis =1,inplace =True) #removing unnecessary columns "
      ],
      "execution_count": 0,
      "outputs": []
    },
    {
      "cell_type": "code",
      "metadata": {
        "colab_type": "code",
        "id": "Kk4i5THZdqXB",
        "outputId": "5562b18e-b1b3-4284-d76e-1c073c220743",
        "colab": {
          "base_uri": "https://localhost:8080/",
          "height": 206
        }
      },
      "source": [
        "master_frame.head(5)"
      ],
      "execution_count": 19,
      "outputs": [
        {
          "output_type": "execute_result",
          "data": {
            "text/html": [
              "<div>\n",
              "<style scoped>\n",
              "    .dataframe tbody tr th:only-of-type {\n",
              "        vertical-align: middle;\n",
              "    }\n",
              "\n",
              "    .dataframe tbody tr th {\n",
              "        vertical-align: top;\n",
              "    }\n",
              "\n",
              "    .dataframe thead th {\n",
              "        text-align: right;\n",
              "    }\n",
              "</style>\n",
              "<table border=\"1\" class=\"dataframe\">\n",
              "  <thead>\n",
              "    <tr style=\"text-align: right;\">\n",
              "      <th></th>\n",
              "      <th>company_permalink</th>\n",
              "      <th>funding_round_type</th>\n",
              "      <th>funded_at</th>\n",
              "      <th>raised_amount_usd</th>\n",
              "      <th>name</th>\n",
              "      <th>category_list_x</th>\n",
              "      <th>status</th>\n",
              "      <th>country_code</th>\n",
              "      <th>primary_sector</th>\n",
              "      <th>main_sector</th>\n",
              "    </tr>\n",
              "  </thead>\n",
              "  <tbody>\n",
              "    <tr>\n",
              "      <th>0</th>\n",
              "      <td>/organization/-fame</td>\n",
              "      <td>venture</td>\n",
              "      <td>05-01-2015</td>\n",
              "      <td>10,000,000.00</td>\n",
              "      <td>#fame</td>\n",
              "      <td>Media</td>\n",
              "      <td>operating</td>\n",
              "      <td>IND</td>\n",
              "      <td>Media</td>\n",
              "      <td>Entertainment</td>\n",
              "    </tr>\n",
              "    <tr>\n",
              "      <th>1</th>\n",
              "      <td>/organization/0xdata</td>\n",
              "      <td>venture</td>\n",
              "      <td>09-11-2015</td>\n",
              "      <td>20,000,000.00</td>\n",
              "      <td>H2O.ai</td>\n",
              "      <td>Analytics</td>\n",
              "      <td>operating</td>\n",
              "      <td>USA</td>\n",
              "      <td>Analytics</td>\n",
              "      <td>Social, Finance, Analytics, Advertising</td>\n",
              "    </tr>\n",
              "    <tr>\n",
              "      <th>2</th>\n",
              "      <td>/organization/0xdata</td>\n",
              "      <td>venture</td>\n",
              "      <td>03-01-2013</td>\n",
              "      <td>1,700,000.00</td>\n",
              "      <td>H2O.ai</td>\n",
              "      <td>Analytics</td>\n",
              "      <td>operating</td>\n",
              "      <td>USA</td>\n",
              "      <td>Analytics</td>\n",
              "      <td>Social, Finance, Analytics, Advertising</td>\n",
              "    </tr>\n",
              "    <tr>\n",
              "      <th>3</th>\n",
              "      <td>/organization/0xdata</td>\n",
              "      <td>venture</td>\n",
              "      <td>19-07-2014</td>\n",
              "      <td>8,900,000.00</td>\n",
              "      <td>H2O.ai</td>\n",
              "      <td>Analytics</td>\n",
              "      <td>operating</td>\n",
              "      <td>USA</td>\n",
              "      <td>Analytics</td>\n",
              "      <td>Social, Finance, Analytics, Advertising</td>\n",
              "    </tr>\n",
              "    <tr>\n",
              "      <th>4</th>\n",
              "      <td>/organization/1-mainstream</td>\n",
              "      <td>venture</td>\n",
              "      <td>17-03-2015</td>\n",
              "      <td>5,000,000.00</td>\n",
              "      <td>1 Mainstream</td>\n",
              "      <td>Apps|Cable|Distribution|Software</td>\n",
              "      <td>acquired</td>\n",
              "      <td>USA</td>\n",
              "      <td>Apps</td>\n",
              "      <td>News, Search and Messaging</td>\n",
              "    </tr>\n",
              "  </tbody>\n",
              "</table>\n",
              "</div>"
            ],
            "text/plain": [
              "            company_permalink  ...                              main_sector\n",
              "0         /organization/-fame  ...                            Entertainment\n",
              "1        /organization/0xdata  ...  Social, Finance, Analytics, Advertising\n",
              "2        /organization/0xdata  ...  Social, Finance, Analytics, Advertising\n",
              "3        /organization/0xdata  ...  Social, Finance, Analytics, Advertising\n",
              "4  /organization/1-mainstream  ...               News, Search and Messaging\n",
              "\n",
              "[5 rows x 10 columns]"
            ]
          },
          "metadata": {
            "tags": []
          },
          "execution_count": 19
        }
      ]
    },
    {
      "cell_type": "code",
      "metadata": {
        "colab_type": "code",
        "id": "9YX0G2II-BZr",
        "outputId": "8e1fe893-afc9-4939-9f94-bbe1832d869b",
        "colab": {
          "base_uri": "https://localhost:8080/",
          "height": 219
        }
      },
      "source": [
        "print(master_frame.isna().sum())"
      ],
      "execution_count": 20,
      "outputs": [
        {
          "output_type": "stream",
          "text": [
            "company_permalink       0\n",
            "funding_round_type      0\n",
            "funded_at               0\n",
            "raised_amount_usd       0\n",
            "name                    0\n",
            "category_list_x         0\n",
            "status                  0\n",
            "country_code            0\n",
            "primary_sector          0\n",
            "main_sector           161\n",
            "dtype: int64\n"
          ],
          "name": "stdout"
        }
      ]
    },
    {
      "cell_type": "code",
      "metadata": {
        "colab_type": "code",
        "id": "T97FJ7vf_WaZ",
        "outputId": "01902643-ebf4-4593-cdfd-da468ddbdeba",
        "colab": {
          "base_uri": "https://localhost:8080/",
          "height": 109
        }
      },
      "source": [
        "master_frame[master_frame.main_sector.isna()].primary_sector.unique()"
      ],
      "execution_count": 21,
      "outputs": [
        {
          "output_type": "execute_result",
          "data": {
            "text/plain": [
              "array(['Nanotechnology', 'Natural Gas Uses',\n",
              "       'Natural Language Processing', 'Adaptive Equipment', 'Racing',\n",
              "       'Specialty Retail', 'Biotechnology and Semiconductor',\n",
              "       'Rapidly Expanding', 'Navigation', 'Product Search', 'GreenTech',\n",
              "       'Retirement'], dtype=object)"
            ]
          },
          "metadata": {
            "tags": []
          },
          "execution_count": 21
        }
      ]
    },
    {
      "cell_type": "code",
      "metadata": {
        "colab_type": "code",
        "id": "gUmd3FbDwGVy",
        "outputId": "b229f95c-e8cb-47cc-8d9d-57dac1f53eb2",
        "colab": {
          "base_uri": "https://localhost:8080/",
          "height": 201
        }
      },
      "source": [
        "print(map_na[map_na.category_list.str.contains('technology',regex= True)])\n",
        "print(map_na[map_na.category_list.str.contains('natural',regex= True)])"
      ],
      "execution_count": 22,
      "outputs": [
        {
          "output_type": "stream",
          "text": [
            "      category_list  ...  Social, Finance, Analytics, Advertising\n",
            "66    Biotechnology  ...                                        0\n",
            "471  nanotechnology  ...                                        0\n",
            "\n",
            "[2 rows x 10 columns]\n",
            "                   category_list  ...  Social, Finance, Analytics, Advertising\n",
            "472  natural Language Processing  ...                                        0\n",
            "473            natural Resources  ...                                        0\n",
            "\n",
            "[2 rows x 10 columns]\n"
          ],
          "name": "stdout"
        }
      ]
    },
    {
      "cell_type": "markdown",
      "metadata": {
        "colab_type": "text",
        "id": "j5Da3wSbQK-C"
      },
      "source": [
        "Although we can see that most of the values are not mactching due to casing mismatch . We can ignore the rows as there are only 161 such rows.Also, correcting each of them might be deemed unnecessary and time consuming."
      ]
    },
    {
      "cell_type": "code",
      "metadata": {
        "colab_type": "code",
        "id": "_MMtA6-1Qv0R",
        "outputId": "06dc4809-fb2b-4527-e25e-4c0527c58cc1",
        "colab": {
          "base_uri": "https://localhost:8080/",
          "height": 329
        }
      },
      "source": [
        "master_frame = master_frame[~master_frame.main_sector.isna()]\n",
        "master_frame.info()"
      ],
      "execution_count": 23,
      "outputs": [
        {
          "output_type": "stream",
          "text": [
            "<class 'pandas.core.frame.DataFrame'>\n",
            "Int64Index: 38642 entries, 0 to 38802\n",
            "Data columns (total 10 columns):\n",
            " #   Column              Non-Null Count  Dtype  \n",
            "---  ------              --------------  -----  \n",
            " 0   company_permalink   38642 non-null  object \n",
            " 1   funding_round_type  38642 non-null  object \n",
            " 2   funded_at           38642 non-null  object \n",
            " 3   raised_amount_usd   38642 non-null  float64\n",
            " 4   name                38642 non-null  object \n",
            " 5   category_list_x     38642 non-null  object \n",
            " 6   status              38642 non-null  object \n",
            " 7   country_code        38642 non-null  object \n",
            " 8   primary_sector      38642 non-null  object \n",
            " 9   main_sector         38642 non-null  object \n",
            "dtypes: float64(1), object(9)\n",
            "memory usage: 3.2+ MB\n"
          ],
          "name": "stdout"
        }
      ]
    },
    {
      "cell_type": "markdown",
      "metadata": {
        "colab_type": "text",
        "id": "aROQb3pKDIq1"
      },
      "source": [
        "## CHECKPOINT 5 : SECTOR ANALYSIS 2"
      ]
    },
    {
      "cell_type": "code",
      "metadata": {
        "colab_type": "code",
        "id": "bL7rF9mSMYSl",
        "outputId": "1cec6503-bec7-45a8-f34d-4934ac2fca8d",
        "colab": {
          "base_uri": "https://localhost:8080/",
          "height": 206
        }
      },
      "source": [
        "master_frame.head(5)\n",
        "#master_frame.info()"
      ],
      "execution_count": 24,
      "outputs": [
        {
          "output_type": "execute_result",
          "data": {
            "text/html": [
              "<div>\n",
              "<style scoped>\n",
              "    .dataframe tbody tr th:only-of-type {\n",
              "        vertical-align: middle;\n",
              "    }\n",
              "\n",
              "    .dataframe tbody tr th {\n",
              "        vertical-align: top;\n",
              "    }\n",
              "\n",
              "    .dataframe thead th {\n",
              "        text-align: right;\n",
              "    }\n",
              "</style>\n",
              "<table border=\"1\" class=\"dataframe\">\n",
              "  <thead>\n",
              "    <tr style=\"text-align: right;\">\n",
              "      <th></th>\n",
              "      <th>company_permalink</th>\n",
              "      <th>funding_round_type</th>\n",
              "      <th>funded_at</th>\n",
              "      <th>raised_amount_usd</th>\n",
              "      <th>name</th>\n",
              "      <th>category_list_x</th>\n",
              "      <th>status</th>\n",
              "      <th>country_code</th>\n",
              "      <th>primary_sector</th>\n",
              "      <th>main_sector</th>\n",
              "    </tr>\n",
              "  </thead>\n",
              "  <tbody>\n",
              "    <tr>\n",
              "      <th>0</th>\n",
              "      <td>/organization/-fame</td>\n",
              "      <td>venture</td>\n",
              "      <td>05-01-2015</td>\n",
              "      <td>10,000,000.00</td>\n",
              "      <td>#fame</td>\n",
              "      <td>Media</td>\n",
              "      <td>operating</td>\n",
              "      <td>IND</td>\n",
              "      <td>Media</td>\n",
              "      <td>Entertainment</td>\n",
              "    </tr>\n",
              "    <tr>\n",
              "      <th>1</th>\n",
              "      <td>/organization/0xdata</td>\n",
              "      <td>venture</td>\n",
              "      <td>09-11-2015</td>\n",
              "      <td>20,000,000.00</td>\n",
              "      <td>H2O.ai</td>\n",
              "      <td>Analytics</td>\n",
              "      <td>operating</td>\n",
              "      <td>USA</td>\n",
              "      <td>Analytics</td>\n",
              "      <td>Social, Finance, Analytics, Advertising</td>\n",
              "    </tr>\n",
              "    <tr>\n",
              "      <th>2</th>\n",
              "      <td>/organization/0xdata</td>\n",
              "      <td>venture</td>\n",
              "      <td>03-01-2013</td>\n",
              "      <td>1,700,000.00</td>\n",
              "      <td>H2O.ai</td>\n",
              "      <td>Analytics</td>\n",
              "      <td>operating</td>\n",
              "      <td>USA</td>\n",
              "      <td>Analytics</td>\n",
              "      <td>Social, Finance, Analytics, Advertising</td>\n",
              "    </tr>\n",
              "    <tr>\n",
              "      <th>3</th>\n",
              "      <td>/organization/0xdata</td>\n",
              "      <td>venture</td>\n",
              "      <td>19-07-2014</td>\n",
              "      <td>8,900,000.00</td>\n",
              "      <td>H2O.ai</td>\n",
              "      <td>Analytics</td>\n",
              "      <td>operating</td>\n",
              "      <td>USA</td>\n",
              "      <td>Analytics</td>\n",
              "      <td>Social, Finance, Analytics, Advertising</td>\n",
              "    </tr>\n",
              "    <tr>\n",
              "      <th>4</th>\n",
              "      <td>/organization/1-mainstream</td>\n",
              "      <td>venture</td>\n",
              "      <td>17-03-2015</td>\n",
              "      <td>5,000,000.00</td>\n",
              "      <td>1 Mainstream</td>\n",
              "      <td>Apps|Cable|Distribution|Software</td>\n",
              "      <td>acquired</td>\n",
              "      <td>USA</td>\n",
              "      <td>Apps</td>\n",
              "      <td>News, Search and Messaging</td>\n",
              "    </tr>\n",
              "  </tbody>\n",
              "</table>\n",
              "</div>"
            ],
            "text/plain": [
              "            company_permalink  ...                              main_sector\n",
              "0         /organization/-fame  ...                            Entertainment\n",
              "1        /organization/0xdata  ...  Social, Finance, Analytics, Advertising\n",
              "2        /organization/0xdata  ...  Social, Finance, Analytics, Advertising\n",
              "3        /organization/0xdata  ...  Social, Finance, Analytics, Advertising\n",
              "4  /organization/1-mainstream  ...               News, Search and Messaging\n",
              "\n",
              "[5 rows x 10 columns]"
            ]
          },
          "metadata": {
            "tags": []
          },
          "execution_count": 24
        }
      ]
    },
    {
      "cell_type": "code",
      "metadata": {
        "colab_type": "code",
        "id": "QpAloo88RaSJ",
        "outputId": "c4ca093e-9229-473f-b743-d20f83ac103f",
        "colab": {
          "base_uri": "https://localhost:8080/",
          "height": 365
        }
      },
      "source": [
        "#filtering for USA and investments between 5 and 15 M\n",
        "D1 =master_frame[(master_frame.country_code == 'USA') &(master_frame.raised_amount_usd.between( 5000000 ,15000000))]\n",
        "#getting required calculations\n",
        "US = D1.groupby('main_sector').agg(['count','sum'])['raised_amount_usd'].reset_index().rename(columns={'count': 'Investments_Count' ,'sum': 'Investments_Total'})\n",
        "D1 = pd.merge(D1 , US , how = 'left' , left_on= 'main_sector' , right_on= 'main_sector')\n",
        "#D1['Total_Investments'] = D1.groupby('main_sector').raised_amount_usd.transform(sum)\n",
        "#D1['Count_Investments'] = D1.groupby('main_sector').raised_amount_usd.transform('count')\n",
        "D1.head()"
      ],
      "execution_count": 25,
      "outputs": [
        {
          "output_type": "execute_result",
          "data": {
            "text/html": [
              "<div>\n",
              "<style scoped>\n",
              "    .dataframe tbody tr th:only-of-type {\n",
              "        vertical-align: middle;\n",
              "    }\n",
              "\n",
              "    .dataframe tbody tr th {\n",
              "        vertical-align: top;\n",
              "    }\n",
              "\n",
              "    .dataframe thead th {\n",
              "        text-align: right;\n",
              "    }\n",
              "</style>\n",
              "<table border=\"1\" class=\"dataframe\">\n",
              "  <thead>\n",
              "    <tr style=\"text-align: right;\">\n",
              "      <th></th>\n",
              "      <th>company_permalink</th>\n",
              "      <th>funding_round_type</th>\n",
              "      <th>funded_at</th>\n",
              "      <th>raised_amount_usd</th>\n",
              "      <th>name</th>\n",
              "      <th>category_list_x</th>\n",
              "      <th>status</th>\n",
              "      <th>country_code</th>\n",
              "      <th>primary_sector</th>\n",
              "      <th>main_sector</th>\n",
              "      <th>Investments_Count</th>\n",
              "      <th>Investments_Total</th>\n",
              "    </tr>\n",
              "  </thead>\n",
              "  <tbody>\n",
              "    <tr>\n",
              "      <th>0</th>\n",
              "      <td>/organization/0xdata</td>\n",
              "      <td>venture</td>\n",
              "      <td>19-07-2014</td>\n",
              "      <td>8,900,000.00</td>\n",
              "      <td>H2O.ai</td>\n",
              "      <td>Analytics</td>\n",
              "      <td>operating</td>\n",
              "      <td>USA</td>\n",
              "      <td>Analytics</td>\n",
              "      <td>Social, Finance, Analytics, Advertising</td>\n",
              "      <td>2714</td>\n",
              "      <td>23,807,376,964.00</td>\n",
              "    </tr>\n",
              "    <tr>\n",
              "      <th>1</th>\n",
              "      <td>/organization/1-mainstream</td>\n",
              "      <td>venture</td>\n",
              "      <td>17-03-2015</td>\n",
              "      <td>5,000,000.00</td>\n",
              "      <td>1 Mainstream</td>\n",
              "      <td>Apps|Cable|Distribution|Software</td>\n",
              "      <td>acquired</td>\n",
              "      <td>USA</td>\n",
              "      <td>Apps</td>\n",
              "      <td>News, Search and Messaging</td>\n",
              "      <td>1582</td>\n",
              "      <td>13,959,567,428.00</td>\n",
              "    </tr>\n",
              "    <tr>\n",
              "      <th>2</th>\n",
              "      <td>/organization/128-technology</td>\n",
              "      <td>venture</td>\n",
              "      <td>16-12-2014</td>\n",
              "      <td>11,999,347.00</td>\n",
              "      <td>128 Technology</td>\n",
              "      <td>Service Providers|Technology</td>\n",
              "      <td>operating</td>\n",
              "      <td>USA</td>\n",
              "      <td>Service Providers</td>\n",
              "      <td>Others</td>\n",
              "      <td>2950</td>\n",
              "      <td>26,321,007,002.00</td>\n",
              "    </tr>\n",
              "    <tr>\n",
              "      <th>3</th>\n",
              "      <td>/organization/1366-technologies</td>\n",
              "      <td>venture</td>\n",
              "      <td>15-10-2013</td>\n",
              "      <td>15,000,000.00</td>\n",
              "      <td>1366 Technologies</td>\n",
              "      <td>Manufacturing</td>\n",
              "      <td>operating</td>\n",
              "      <td>USA</td>\n",
              "      <td>Manufacturing</td>\n",
              "      <td>Manufacturing</td>\n",
              "      <td>799</td>\n",
              "      <td>7,258,553,378.00</td>\n",
              "    </tr>\n",
              "    <tr>\n",
              "      <th>4</th>\n",
              "      <td>/organization/1366-technologies</td>\n",
              "      <td>venture</td>\n",
              "      <td>09-04-2015</td>\n",
              "      <td>5,000,000.00</td>\n",
              "      <td>1366 Technologies</td>\n",
              "      <td>Manufacturing</td>\n",
              "      <td>operating</td>\n",
              "      <td>USA</td>\n",
              "      <td>Manufacturing</td>\n",
              "      <td>Manufacturing</td>\n",
              "      <td>799</td>\n",
              "      <td>7,258,553,378.00</td>\n",
              "    </tr>\n",
              "  </tbody>\n",
              "</table>\n",
              "</div>"
            ],
            "text/plain": [
              "                 company_permalink  ... Investments_Total\n",
              "0             /organization/0xdata  ... 23,807,376,964.00\n",
              "1       /organization/1-mainstream  ... 13,959,567,428.00\n",
              "2     /organization/128-technology  ... 26,321,007,002.00\n",
              "3  /organization/1366-technologies  ...  7,258,553,378.00\n",
              "4  /organization/1366-technologies  ...  7,258,553,378.00\n",
              "\n",
              "[5 rows x 12 columns]"
            ]
          },
          "metadata": {
            "tags": []
          },
          "execution_count": 25
        }
      ]
    },
    {
      "cell_type": "code",
      "metadata": {
        "colab_type": "code",
        "id": "mTck54fXhZPY",
        "outputId": "a8fe2aac-e8f8-4f32-b412-4cc51a4cc85c",
        "colab": {
          "base_uri": "https://localhost:8080/",
          "height": 313
        }
      },
      "source": [
        "#repeating the same process from above block for GBR\n",
        "D2 =master_frame[(master_frame.country_code == 'GBR') &(master_frame.raised_amount_usd.between( 5000000 ,15000000))]\n",
        "GB = D2.groupby('main_sector').agg(['count','sum'])['raised_amount_usd'].reset_index().rename(columns={'count': 'Investments_Count' ,'sum': 'Investments_Total'})\n",
        "D2 = pd.merge(D2 , GB , how = 'left' , left_on= 'main_sector' , right_on= 'main_sector')\n",
        "#D2['Total_Investments'] = D2.groupby('main_sector').raised_amount_usd.transform(sum)\n",
        "#D2['Count_Investments'] = D2.groupby('main_sector').raised_amount_usd.transform('count')\n",
        "D2.head()"
      ],
      "execution_count": 26,
      "outputs": [
        {
          "output_type": "execute_result",
          "data": {
            "text/html": [
              "<div>\n",
              "<style scoped>\n",
              "    .dataframe tbody tr th:only-of-type {\n",
              "        vertical-align: middle;\n",
              "    }\n",
              "\n",
              "    .dataframe tbody tr th {\n",
              "        vertical-align: top;\n",
              "    }\n",
              "\n",
              "    .dataframe thead th {\n",
              "        text-align: right;\n",
              "    }\n",
              "</style>\n",
              "<table border=\"1\" class=\"dataframe\">\n",
              "  <thead>\n",
              "    <tr style=\"text-align: right;\">\n",
              "      <th></th>\n",
              "      <th>company_permalink</th>\n",
              "      <th>funding_round_type</th>\n",
              "      <th>funded_at</th>\n",
              "      <th>raised_amount_usd</th>\n",
              "      <th>name</th>\n",
              "      <th>category_list_x</th>\n",
              "      <th>status</th>\n",
              "      <th>country_code</th>\n",
              "      <th>primary_sector</th>\n",
              "      <th>main_sector</th>\n",
              "      <th>Investments_Count</th>\n",
              "      <th>Investments_Total</th>\n",
              "    </tr>\n",
              "  </thead>\n",
              "  <tbody>\n",
              "    <tr>\n",
              "      <th>0</th>\n",
              "      <td>/organization/365scores</td>\n",
              "      <td>venture</td>\n",
              "      <td>29-09-2014</td>\n",
              "      <td>5,500,000.00</td>\n",
              "      <td>365Scores</td>\n",
              "      <td>Android|Apps|iPhone|Mobile|Sports</td>\n",
              "      <td>operating</td>\n",
              "      <td>GBR</td>\n",
              "      <td>Android</td>\n",
              "      <td>Social, Finance, Analytics, Advertising</td>\n",
              "      <td>133</td>\n",
              "      <td>1,089,404,014.00</td>\n",
              "    </tr>\n",
              "    <tr>\n",
              "      <th>1</th>\n",
              "      <td>/organization/7digital</td>\n",
              "      <td>venture</td>\n",
              "      <td>01-01-2008</td>\n",
              "      <td>8,468,328.00</td>\n",
              "      <td>7digital</td>\n",
              "      <td>Content Creators|Content Delivery|Licensing|Mu...</td>\n",
              "      <td>acquired</td>\n",
              "      <td>GBR</td>\n",
              "      <td>Content Creators</td>\n",
              "      <td>Entertainment</td>\n",
              "      <td>56</td>\n",
              "      <td>482,784,687.00</td>\n",
              "    </tr>\n",
              "    <tr>\n",
              "      <th>2</th>\n",
              "      <td>/organization/7digital</td>\n",
              "      <td>venture</td>\n",
              "      <td>19-10-2012</td>\n",
              "      <td>10,000,000.00</td>\n",
              "      <td>7digital</td>\n",
              "      <td>Content Creators|Content Delivery|Licensing|Mu...</td>\n",
              "      <td>acquired</td>\n",
              "      <td>GBR</td>\n",
              "      <td>Content Creators</td>\n",
              "      <td>Entertainment</td>\n",
              "      <td>56</td>\n",
              "      <td>482,784,687.00</td>\n",
              "    </tr>\n",
              "    <tr>\n",
              "      <th>3</th>\n",
              "      <td>/organization/90min</td>\n",
              "      <td>venture</td>\n",
              "      <td>06-10-2015</td>\n",
              "      <td>15,000,000.00</td>\n",
              "      <td>90min</td>\n",
              "      <td>Media|News|Publishing|Soccer|Sports</td>\n",
              "      <td>operating</td>\n",
              "      <td>GBR</td>\n",
              "      <td>Media</td>\n",
              "      <td>Entertainment</td>\n",
              "      <td>56</td>\n",
              "      <td>482,784,687.00</td>\n",
              "    </tr>\n",
              "    <tr>\n",
              "      <th>4</th>\n",
              "      <td>/organization/90min</td>\n",
              "      <td>venture</td>\n",
              "      <td>07-05-2013</td>\n",
              "      <td>5,800,000.00</td>\n",
              "      <td>90min</td>\n",
              "      <td>Media|News|Publishing|Soccer|Sports</td>\n",
              "      <td>operating</td>\n",
              "      <td>GBR</td>\n",
              "      <td>Media</td>\n",
              "      <td>Entertainment</td>\n",
              "      <td>56</td>\n",
              "      <td>482,784,687.00</td>\n",
              "    </tr>\n",
              "  </tbody>\n",
              "</table>\n",
              "</div>"
            ],
            "text/plain": [
              "         company_permalink  ... Investments_Total\n",
              "0  /organization/365scores  ...  1,089,404,014.00\n",
              "1   /organization/7digital  ...    482,784,687.00\n",
              "2   /organization/7digital  ...    482,784,687.00\n",
              "3      /organization/90min  ...    482,784,687.00\n",
              "4      /organization/90min  ...    482,784,687.00\n",
              "\n",
              "[5 rows x 12 columns]"
            ]
          },
          "metadata": {
            "tags": []
          },
          "execution_count": 26
        }
      ]
    },
    {
      "cell_type": "code",
      "metadata": {
        "colab_type": "code",
        "id": "y_DmOVzLt-f0",
        "outputId": "27d1a01f-1606-4208-f205-c88b828fd4fc",
        "colab": {
          "base_uri": "https://localhost:8080/",
          "height": 365
        }
      },
      "source": [
        "#repeating the same process for IND\n",
        "D3 =master_frame[(master_frame.country_code == 'IND') &(master_frame.raised_amount_usd.between( 5000000 ,15000000))]\n",
        "IN = D3.groupby('main_sector').agg(['count','sum'])['raised_amount_usd'].reset_index().rename(columns={'count': 'Investments_Count' ,'sum': 'Investments_Total'})\n",
        "D3 = pd.merge(D3 , IN , how = 'left' , left_on= 'main_sector' , right_on= 'main_sector')\n",
        "#D3['Total_Investments'] = D3.groupby('main_sector').raised_amount_usd.transform(sum)\n",
        "#D3['Count_Investments'] = D3.groupby('main_sector').raised_amount_usd.transform('count')\n",
        "D3.head()"
      ],
      "execution_count": 27,
      "outputs": [
        {
          "output_type": "execute_result",
          "data": {
            "text/html": [
              "<div>\n",
              "<style scoped>\n",
              "    .dataframe tbody tr th:only-of-type {\n",
              "        vertical-align: middle;\n",
              "    }\n",
              "\n",
              "    .dataframe tbody tr th {\n",
              "        vertical-align: top;\n",
              "    }\n",
              "\n",
              "    .dataframe thead th {\n",
              "        text-align: right;\n",
              "    }\n",
              "</style>\n",
              "<table border=\"1\" class=\"dataframe\">\n",
              "  <thead>\n",
              "    <tr style=\"text-align: right;\">\n",
              "      <th></th>\n",
              "      <th>company_permalink</th>\n",
              "      <th>funding_round_type</th>\n",
              "      <th>funded_at</th>\n",
              "      <th>raised_amount_usd</th>\n",
              "      <th>name</th>\n",
              "      <th>category_list_x</th>\n",
              "      <th>status</th>\n",
              "      <th>country_code</th>\n",
              "      <th>primary_sector</th>\n",
              "      <th>main_sector</th>\n",
              "      <th>Investments_Count</th>\n",
              "      <th>Investments_Total</th>\n",
              "    </tr>\n",
              "  </thead>\n",
              "  <tbody>\n",
              "    <tr>\n",
              "      <th>0</th>\n",
              "      <td>/organization/-fame</td>\n",
              "      <td>venture</td>\n",
              "      <td>05-01-2015</td>\n",
              "      <td>10,000,000.00</td>\n",
              "      <td>#fame</td>\n",
              "      <td>Media</td>\n",
              "      <td>operating</td>\n",
              "      <td>IND</td>\n",
              "      <td>Media</td>\n",
              "      <td>Entertainment</td>\n",
              "      <td>33</td>\n",
              "      <td>280,830,000.00</td>\n",
              "    </tr>\n",
              "    <tr>\n",
              "      <th>1</th>\n",
              "      <td>/organization/21diamonds-india</td>\n",
              "      <td>venture</td>\n",
              "      <td>15-11-2012</td>\n",
              "      <td>6,369,507.00</td>\n",
              "      <td>21Diamonds</td>\n",
              "      <td>E-Commerce</td>\n",
              "      <td>operating</td>\n",
              "      <td>IND</td>\n",
              "      <td>E-Commerce</td>\n",
              "      <td>Others</td>\n",
              "      <td>110</td>\n",
              "      <td>1,013,409,507.00</td>\n",
              "    </tr>\n",
              "    <tr>\n",
              "      <th>2</th>\n",
              "      <td>/organization/a-little-world</td>\n",
              "      <td>venture</td>\n",
              "      <td>09-09-2008</td>\n",
              "      <td>6,410,000.00</td>\n",
              "      <td>A LITTLE WORLD</td>\n",
              "      <td>Finance</td>\n",
              "      <td>operating</td>\n",
              "      <td>IND</td>\n",
              "      <td>Finance</td>\n",
              "      <td>Social, Finance, Analytics, Advertising</td>\n",
              "      <td>60</td>\n",
              "      <td>550,549,550.00</td>\n",
              "    </tr>\n",
              "    <tr>\n",
              "      <th>3</th>\n",
              "      <td>/organization/adlabs-imagica</td>\n",
              "      <td>venture</td>\n",
              "      <td>28-10-2014</td>\n",
              "      <td>8,180,000.00</td>\n",
              "      <td>Adlabs Imagica</td>\n",
              "      <td>Entertainment|Tourism</td>\n",
              "      <td>operating</td>\n",
              "      <td>IND</td>\n",
              "      <td>Entertainment</td>\n",
              "      <td>Entertainment</td>\n",
              "      <td>33</td>\n",
              "      <td>280,830,000.00</td>\n",
              "    </tr>\n",
              "    <tr>\n",
              "      <th>4</th>\n",
              "      <td>/organization/agile</td>\n",
              "      <td>venture</td>\n",
              "      <td>01-05-2011</td>\n",
              "      <td>5,740,000.00</td>\n",
              "      <td>Agile</td>\n",
              "      <td>Finance|Finance Technology|FinTech|Insurance</td>\n",
              "      <td>operating</td>\n",
              "      <td>IND</td>\n",
              "      <td>Finance</td>\n",
              "      <td>Social, Finance, Analytics, Advertising</td>\n",
              "      <td>60</td>\n",
              "      <td>550,549,550.00</td>\n",
              "    </tr>\n",
              "  </tbody>\n",
              "</table>\n",
              "</div>"
            ],
            "text/plain": [
              "                company_permalink  ... Investments_Total\n",
              "0             /organization/-fame  ...    280,830,000.00\n",
              "1  /organization/21diamonds-india  ...  1,013,409,507.00\n",
              "2    /organization/a-little-world  ...    550,549,550.00\n",
              "3    /organization/adlabs-imagica  ...    280,830,000.00\n",
              "4             /organization/agile  ...    550,549,550.00\n",
              "\n",
              "[5 rows x 12 columns]"
            ]
          },
          "metadata": {
            "tags": []
          },
          "execution_count": 27
        }
      ]
    },
    {
      "cell_type": "code",
      "metadata": {
        "colab_type": "code",
        "id": "xBm7obNQwY8E",
        "outputId": "bf38ab05-3226-4476-f099-b62c43308f73",
        "colab": {
          "base_uri": "https://localhost:8080/",
          "height": 394
        }
      },
      "source": [
        "pivot = master_frame[master_frame.raised_amount_usd.between( 5000000 ,15000000)].pivot_table(values = 'raised_amount_usd',index = 'main_sector' , columns = 'country_code' ,aggfunc=['sum' , 'count'],margins =True )\n",
        "display(pivot)"
      ],
      "execution_count": 28,
      "outputs": [
        {
          "output_type": "display_data",
          "data": {
            "text/html": [
              "<div>\n",
              "<style scoped>\n",
              "    .dataframe tbody tr th:only-of-type {\n",
              "        vertical-align: middle;\n",
              "    }\n",
              "\n",
              "    .dataframe tbody tr th {\n",
              "        vertical-align: top;\n",
              "    }\n",
              "\n",
              "    .dataframe thead tr th {\n",
              "        text-align: left;\n",
              "    }\n",
              "\n",
              "    .dataframe thead tr:last-of-type th {\n",
              "        text-align: right;\n",
              "    }\n",
              "</style>\n",
              "<table border=\"1\" class=\"dataframe\">\n",
              "  <thead>\n",
              "    <tr>\n",
              "      <th></th>\n",
              "      <th colspan=\"4\" halign=\"left\">sum</th>\n",
              "      <th colspan=\"4\" halign=\"left\">count</th>\n",
              "    </tr>\n",
              "    <tr>\n",
              "      <th>country_code</th>\n",
              "      <th>GBR</th>\n",
              "      <th>IND</th>\n",
              "      <th>USA</th>\n",
              "      <th>All</th>\n",
              "      <th>GBR</th>\n",
              "      <th>IND</th>\n",
              "      <th>USA</th>\n",
              "      <th>All</th>\n",
              "    </tr>\n",
              "    <tr>\n",
              "      <th>main_sector</th>\n",
              "      <th></th>\n",
              "      <th></th>\n",
              "      <th></th>\n",
              "      <th></th>\n",
              "      <th></th>\n",
              "      <th></th>\n",
              "      <th></th>\n",
              "      <th></th>\n",
              "    </tr>\n",
              "  </thead>\n",
              "  <tbody>\n",
              "    <tr>\n",
              "      <th>Automotive &amp; Sports</th>\n",
              "      <td>167,051,565.00</td>\n",
              "      <td>136,900,000.00</td>\n",
              "      <td>1,454,104,361.00</td>\n",
              "      <td>1,758,055,926.00</td>\n",
              "      <td>16</td>\n",
              "      <td>13</td>\n",
              "      <td>167</td>\n",
              "      <td>196</td>\n",
              "    </tr>\n",
              "    <tr>\n",
              "      <th>Cleantech / Semiconductors</th>\n",
              "      <td>1,150,139,665.00</td>\n",
              "      <td>165,380,000.00</td>\n",
              "      <td>21,206,628,192.00</td>\n",
              "      <td>22,522,147,857.00</td>\n",
              "      <td>128</td>\n",
              "      <td>20</td>\n",
              "      <td>2300</td>\n",
              "      <td>2448</td>\n",
              "    </tr>\n",
              "    <tr>\n",
              "      <th>Entertainment</th>\n",
              "      <td>482,784,687.00</td>\n",
              "      <td>280,830,000.00</td>\n",
              "      <td>5,099,197,982.00</td>\n",
              "      <td>5,862,812,669.00</td>\n",
              "      <td>56</td>\n",
              "      <td>33</td>\n",
              "      <td>591</td>\n",
              "      <td>680</td>\n",
              "    </tr>\n",
              "    <tr>\n",
              "      <th>Health</th>\n",
              "      <td>214,537,510.00</td>\n",
              "      <td>167,740,000.00</td>\n",
              "      <td>8,211,859,357.00</td>\n",
              "      <td>8,594,136,867.00</td>\n",
              "      <td>24</td>\n",
              "      <td>19</td>\n",
              "      <td>909</td>\n",
              "      <td>952</td>\n",
              "    </tr>\n",
              "    <tr>\n",
              "      <th>Manufacturing</th>\n",
              "      <td>361,940,335.00</td>\n",
              "      <td>200,900,000.00</td>\n",
              "      <td>7,258,553,378.00</td>\n",
              "      <td>7,821,393,713.00</td>\n",
              "      <td>42</td>\n",
              "      <td>21</td>\n",
              "      <td>799</td>\n",
              "      <td>862</td>\n",
              "    </tr>\n",
              "    <tr>\n",
              "      <th>News, Search and Messaging</th>\n",
              "      <td>615,746,235.00</td>\n",
              "      <td>433,834,545.00</td>\n",
              "      <td>13,959,567,428.00</td>\n",
              "      <td>15,009,148,208.00</td>\n",
              "      <td>73</td>\n",
              "      <td>52</td>\n",
              "      <td>1582</td>\n",
              "      <td>1707</td>\n",
              "    </tr>\n",
              "    <tr>\n",
              "      <th>Others</th>\n",
              "      <td>1,283,624,289.00</td>\n",
              "      <td>1,013,409,507.00</td>\n",
              "      <td>26,321,007,002.00</td>\n",
              "      <td>28,618,040,798.00</td>\n",
              "      <td>147</td>\n",
              "      <td>110</td>\n",
              "      <td>2950</td>\n",
              "      <td>3207</td>\n",
              "    </tr>\n",
              "    <tr>\n",
              "      <th>Social, Finance, Analytics, Advertising</th>\n",
              "      <td>1,089,404,014.00</td>\n",
              "      <td>550,549,550.00</td>\n",
              "      <td>23,807,376,964.00</td>\n",
              "      <td>25,447,330,528.00</td>\n",
              "      <td>133</td>\n",
              "      <td>60</td>\n",
              "      <td>2714</td>\n",
              "      <td>2907</td>\n",
              "    </tr>\n",
              "    <tr>\n",
              "      <th>All</th>\n",
              "      <td>5,365,228,300.00</td>\n",
              "      <td>2,949,543,602.00</td>\n",
              "      <td>107,318,294,664.00</td>\n",
              "      <td>115,633,066,566.00</td>\n",
              "      <td>619</td>\n",
              "      <td>328</td>\n",
              "      <td>12012</td>\n",
              "      <td>12959</td>\n",
              "    </tr>\n",
              "  </tbody>\n",
              "</table>\n",
              "</div>"
            ],
            "text/plain": [
              "                                                     sum  ...  count\n",
              "country_code                                         GBR  ...    All\n",
              "main_sector                                               ...       \n",
              "Automotive & Sports                       167,051,565.00  ...    196\n",
              "Cleantech / Semiconductors              1,150,139,665.00  ...   2448\n",
              "Entertainment                             482,784,687.00  ...    680\n",
              "Health                                    214,537,510.00  ...    952\n",
              "Manufacturing                             361,940,335.00  ...    862\n",
              "News, Search and Messaging                615,746,235.00  ...   1707\n",
              "Others                                  1,283,624,289.00  ...   3207\n",
              "Social, Finance, Analytics, Advertising 1,089,404,014.00  ...   2907\n",
              "All                                     5,365,228,300.00  ...  12959\n",
              "\n",
              "[9 rows x 8 columns]"
            ]
          },
          "metadata": {
            "tags": []
          }
        }
      ]
    },
    {
      "cell_type": "markdown",
      "metadata": {
        "colab_type": "text",
        "id": "9dmRGVpP3IHV"
      },
      "source": [
        "Questions 1 to 8 can be answered with the help of above table"
      ]
    },
    {
      "cell_type": "code",
      "metadata": {
        "colab_type": "code",
        "id": "SS1Fx6z9xZol",
        "outputId": "4814ce52-b930-45a5-a97b-465c6da8ad77",
        "colab": {
          "base_uri": "https://localhost:8080/",
          "height": 300
        }
      },
      "source": [
        "US.sort_values('Investments_Count',ascending=False)"
      ],
      "execution_count": 29,
      "outputs": [
        {
          "output_type": "execute_result",
          "data": {
            "text/html": [
              "<div>\n",
              "<style scoped>\n",
              "    .dataframe tbody tr th:only-of-type {\n",
              "        vertical-align: middle;\n",
              "    }\n",
              "\n",
              "    .dataframe tbody tr th {\n",
              "        vertical-align: top;\n",
              "    }\n",
              "\n",
              "    .dataframe thead th {\n",
              "        text-align: right;\n",
              "    }\n",
              "</style>\n",
              "<table border=\"1\" class=\"dataframe\">\n",
              "  <thead>\n",
              "    <tr style=\"text-align: right;\">\n",
              "      <th></th>\n",
              "      <th>main_sector</th>\n",
              "      <th>Investments_Count</th>\n",
              "      <th>Investments_Total</th>\n",
              "    </tr>\n",
              "  </thead>\n",
              "  <tbody>\n",
              "    <tr>\n",
              "      <th>6</th>\n",
              "      <td>Others</td>\n",
              "      <td>2950</td>\n",
              "      <td>26,321,007,002.00</td>\n",
              "    </tr>\n",
              "    <tr>\n",
              "      <th>7</th>\n",
              "      <td>Social, Finance, Analytics, Advertising</td>\n",
              "      <td>2714</td>\n",
              "      <td>23,807,376,964.00</td>\n",
              "    </tr>\n",
              "    <tr>\n",
              "      <th>1</th>\n",
              "      <td>Cleantech / Semiconductors</td>\n",
              "      <td>2300</td>\n",
              "      <td>21,206,628,192.00</td>\n",
              "    </tr>\n",
              "    <tr>\n",
              "      <th>5</th>\n",
              "      <td>News, Search and Messaging</td>\n",
              "      <td>1582</td>\n",
              "      <td>13,959,567,428.00</td>\n",
              "    </tr>\n",
              "    <tr>\n",
              "      <th>3</th>\n",
              "      <td>Health</td>\n",
              "      <td>909</td>\n",
              "      <td>8,211,859,357.00</td>\n",
              "    </tr>\n",
              "    <tr>\n",
              "      <th>4</th>\n",
              "      <td>Manufacturing</td>\n",
              "      <td>799</td>\n",
              "      <td>7,258,553,378.00</td>\n",
              "    </tr>\n",
              "    <tr>\n",
              "      <th>2</th>\n",
              "      <td>Entertainment</td>\n",
              "      <td>591</td>\n",
              "      <td>5,099,197,982.00</td>\n",
              "    </tr>\n",
              "    <tr>\n",
              "      <th>0</th>\n",
              "      <td>Automotive &amp; Sports</td>\n",
              "      <td>167</td>\n",
              "      <td>1,454,104,361.00</td>\n",
              "    </tr>\n",
              "  </tbody>\n",
              "</table>\n",
              "</div>"
            ],
            "text/plain": [
              "                               main_sector  ...  Investments_Total\n",
              "6                                   Others  ...  26,321,007,002.00\n",
              "7  Social, Finance, Analytics, Advertising  ...  23,807,376,964.00\n",
              "1               Cleantech / Semiconductors  ...  21,206,628,192.00\n",
              "5               News, Search and Messaging  ...  13,959,567,428.00\n",
              "3                                   Health  ...   8,211,859,357.00\n",
              "4                            Manufacturing  ...   7,258,553,378.00\n",
              "2                            Entertainment  ...   5,099,197,982.00\n",
              "0                      Automotive & Sports  ...   1,454,104,361.00\n",
              "\n",
              "[8 rows x 3 columns]"
            ]
          },
          "metadata": {
            "tags": []
          },
          "execution_count": 29
        }
      ]
    },
    {
      "cell_type": "code",
      "metadata": {
        "colab_type": "code",
        "id": "_9l8t3SEy01w",
        "outputId": "3d3dff6d-e007-402d-c2a6-63b0f4b5f7b9",
        "colab": {
          "base_uri": "https://localhost:8080/",
          "height": 300
        }
      },
      "source": [
        "GB.sort_values('Investments_Count',ascending=False)"
      ],
      "execution_count": 30,
      "outputs": [
        {
          "output_type": "execute_result",
          "data": {
            "text/html": [
              "<div>\n",
              "<style scoped>\n",
              "    .dataframe tbody tr th:only-of-type {\n",
              "        vertical-align: middle;\n",
              "    }\n",
              "\n",
              "    .dataframe tbody tr th {\n",
              "        vertical-align: top;\n",
              "    }\n",
              "\n",
              "    .dataframe thead th {\n",
              "        text-align: right;\n",
              "    }\n",
              "</style>\n",
              "<table border=\"1\" class=\"dataframe\">\n",
              "  <thead>\n",
              "    <tr style=\"text-align: right;\">\n",
              "      <th></th>\n",
              "      <th>main_sector</th>\n",
              "      <th>Investments_Count</th>\n",
              "      <th>Investments_Total</th>\n",
              "    </tr>\n",
              "  </thead>\n",
              "  <tbody>\n",
              "    <tr>\n",
              "      <th>6</th>\n",
              "      <td>Others</td>\n",
              "      <td>147</td>\n",
              "      <td>1,283,624,289.00</td>\n",
              "    </tr>\n",
              "    <tr>\n",
              "      <th>7</th>\n",
              "      <td>Social, Finance, Analytics, Advertising</td>\n",
              "      <td>133</td>\n",
              "      <td>1,089,404,014.00</td>\n",
              "    </tr>\n",
              "    <tr>\n",
              "      <th>1</th>\n",
              "      <td>Cleantech / Semiconductors</td>\n",
              "      <td>128</td>\n",
              "      <td>1,150,139,665.00</td>\n",
              "    </tr>\n",
              "    <tr>\n",
              "      <th>5</th>\n",
              "      <td>News, Search and Messaging</td>\n",
              "      <td>73</td>\n",
              "      <td>615,746,235.00</td>\n",
              "    </tr>\n",
              "    <tr>\n",
              "      <th>2</th>\n",
              "      <td>Entertainment</td>\n",
              "      <td>56</td>\n",
              "      <td>482,784,687.00</td>\n",
              "    </tr>\n",
              "    <tr>\n",
              "      <th>4</th>\n",
              "      <td>Manufacturing</td>\n",
              "      <td>42</td>\n",
              "      <td>361,940,335.00</td>\n",
              "    </tr>\n",
              "    <tr>\n",
              "      <th>3</th>\n",
              "      <td>Health</td>\n",
              "      <td>24</td>\n",
              "      <td>214,537,510.00</td>\n",
              "    </tr>\n",
              "    <tr>\n",
              "      <th>0</th>\n",
              "      <td>Automotive &amp; Sports</td>\n",
              "      <td>16</td>\n",
              "      <td>167,051,565.00</td>\n",
              "    </tr>\n",
              "  </tbody>\n",
              "</table>\n",
              "</div>"
            ],
            "text/plain": [
              "                               main_sector  ...  Investments_Total\n",
              "6                                   Others  ...   1,283,624,289.00\n",
              "7  Social, Finance, Analytics, Advertising  ...   1,089,404,014.00\n",
              "1               Cleantech / Semiconductors  ...   1,150,139,665.00\n",
              "5               News, Search and Messaging  ...     615,746,235.00\n",
              "2                            Entertainment  ...     482,784,687.00\n",
              "4                            Manufacturing  ...     361,940,335.00\n",
              "3                                   Health  ...     214,537,510.00\n",
              "0                      Automotive & Sports  ...     167,051,565.00\n",
              "\n",
              "[8 rows x 3 columns]"
            ]
          },
          "metadata": {
            "tags": []
          },
          "execution_count": 30
        }
      ]
    },
    {
      "cell_type": "code",
      "metadata": {
        "colab_type": "code",
        "id": "QKv60D0H4kDy",
        "outputId": "713a003d-4b44-4287-fc35-a003bdc60530",
        "colab": {
          "base_uri": "https://localhost:8080/",
          "height": 300
        }
      },
      "source": [
        "IN.sort_values('Investments_Count',ascending=False)"
      ],
      "execution_count": 31,
      "outputs": [
        {
          "output_type": "execute_result",
          "data": {
            "text/html": [
              "<div>\n",
              "<style scoped>\n",
              "    .dataframe tbody tr th:only-of-type {\n",
              "        vertical-align: middle;\n",
              "    }\n",
              "\n",
              "    .dataframe tbody tr th {\n",
              "        vertical-align: top;\n",
              "    }\n",
              "\n",
              "    .dataframe thead th {\n",
              "        text-align: right;\n",
              "    }\n",
              "</style>\n",
              "<table border=\"1\" class=\"dataframe\">\n",
              "  <thead>\n",
              "    <tr style=\"text-align: right;\">\n",
              "      <th></th>\n",
              "      <th>main_sector</th>\n",
              "      <th>Investments_Count</th>\n",
              "      <th>Investments_Total</th>\n",
              "    </tr>\n",
              "  </thead>\n",
              "  <tbody>\n",
              "    <tr>\n",
              "      <th>6</th>\n",
              "      <td>Others</td>\n",
              "      <td>110</td>\n",
              "      <td>1,013,409,507.00</td>\n",
              "    </tr>\n",
              "    <tr>\n",
              "      <th>7</th>\n",
              "      <td>Social, Finance, Analytics, Advertising</td>\n",
              "      <td>60</td>\n",
              "      <td>550,549,550.00</td>\n",
              "    </tr>\n",
              "    <tr>\n",
              "      <th>5</th>\n",
              "      <td>News, Search and Messaging</td>\n",
              "      <td>52</td>\n",
              "      <td>433,834,545.00</td>\n",
              "    </tr>\n",
              "    <tr>\n",
              "      <th>2</th>\n",
              "      <td>Entertainment</td>\n",
              "      <td>33</td>\n",
              "      <td>280,830,000.00</td>\n",
              "    </tr>\n",
              "    <tr>\n",
              "      <th>4</th>\n",
              "      <td>Manufacturing</td>\n",
              "      <td>21</td>\n",
              "      <td>200,900,000.00</td>\n",
              "    </tr>\n",
              "    <tr>\n",
              "      <th>1</th>\n",
              "      <td>Cleantech / Semiconductors</td>\n",
              "      <td>20</td>\n",
              "      <td>165,380,000.00</td>\n",
              "    </tr>\n",
              "    <tr>\n",
              "      <th>3</th>\n",
              "      <td>Health</td>\n",
              "      <td>19</td>\n",
              "      <td>167,740,000.00</td>\n",
              "    </tr>\n",
              "    <tr>\n",
              "      <th>0</th>\n",
              "      <td>Automotive &amp; Sports</td>\n",
              "      <td>13</td>\n",
              "      <td>136,900,000.00</td>\n",
              "    </tr>\n",
              "  </tbody>\n",
              "</table>\n",
              "</div>"
            ],
            "text/plain": [
              "                               main_sector  ...  Investments_Total\n",
              "6                                   Others  ...   1,013,409,507.00\n",
              "7  Social, Finance, Analytics, Advertising  ...     550,549,550.00\n",
              "5               News, Search and Messaging  ...     433,834,545.00\n",
              "2                            Entertainment  ...     280,830,000.00\n",
              "4                            Manufacturing  ...     200,900,000.00\n",
              "1               Cleantech / Semiconductors  ...     165,380,000.00\n",
              "3                                   Health  ...     167,740,000.00\n",
              "0                      Automotive & Sports  ...     136,900,000.00\n",
              "\n",
              "[8 rows x 3 columns]"
            ]
          },
          "metadata": {
            "tags": []
          },
          "execution_count": 31
        }
      ]
    },
    {
      "cell_type": "code",
      "metadata": {
        "colab_type": "code",
        "id": "AURTtZoP4qKB",
        "outputId": "e43ca62f-d650-48f1-c5d2-d4b1452d1935",
        "colab": {
          "base_uri": "https://localhost:8080/",
          "height": 72
        }
      },
      "source": [
        "print('Top Company in US for others sector is' ,D1[D1.company_permalink == D1[D1.main_sector == 'Others'].groupby('company_permalink').sum()['raised_amount_usd'].sort_values(ascending =False).reset_index().iloc[0,0]]['name'].unique()[0])\n",
        "print('Top Company in GB for others sector is' ,D2[D2.company_permalink == D2[D2.main_sector == 'Others'].groupby('company_permalink').sum()['raised_amount_usd'].sort_values(ascending =False).reset_index().iloc[0,0]]['name'].unique()[0])\n",
        "print('Top Company in IN for others sector is' ,D3[D3.company_permalink == D3[D3.main_sector == 'Others'].groupby('company_permalink').sum()['raised_amount_usd'].sort_values(ascending =False).reset_index().iloc[0,0]]['name'].unique()[0])"
      ],
      "execution_count": 32,
      "outputs": [
        {
          "output_type": "stream",
          "text": [
            "Top Company in US for others sector is Virtustream\n",
            "Top Company in GB for others sector is Electric Cloud\n",
            "Top Company in IN for others sector is FirstCry.com\n"
          ],
          "name": "stdout"
        }
      ]
    },
    {
      "cell_type": "code",
      "metadata": {
        "colab_type": "code",
        "id": "faXJOn1i6dNu",
        "outputId": "c4d5b866-f4fa-46d3-f113-e2e9a9dcb2ff",
        "colab": {
          "base_uri": "https://localhost:8080/",
          "height": 72
        }
      },
      "source": [
        "print('Top Company in US for Social, Finance, Analytics, Advertising is',D1[D1.company_permalink == D1[D1.main_sector == 'Social, Finance, Analytics, Advertising'].groupby('company_permalink').sum()['raised_amount_usd'].sort_values(ascending =False).reset_index().iloc[0,0]]['name'].unique()[0])\n",
        "print('Top Company in GB for Social, Finance, Analytics, Advertising is' ,D2[D2.company_permalink == D2[D2.main_sector == 'Social, Finance, Analytics, Advertising'].groupby('company_permalink').sum()['raised_amount_usd'].sort_values(ascending =False).reset_index().iloc[0,0]]['name'].unique()[0])\n",
        "print('Top Company in IN for Social, Finance, Analytics, Advertising is' , D3[D3['company_permalink'] == D3[D3.main_sector == 'Social, Finance, Analytics, Advertising'].groupby('company_permalink').sum()['raised_amount_usd'].sort_values(ascending =False).reset_index().iloc[0,0]]['name'].unique()[0])"
      ],
      "execution_count": 33,
      "outputs": [
        {
          "output_type": "stream",
          "text": [
            "Top Company in US for Social, Finance, Analytics, Advertising is SST Inc. (Formerly ShotSpotter)\n",
            "Top Company in GB for Social, Finance, Analytics, Advertising is Celltick Technologies\n",
            "Top Company in IN for Social, Finance, Analytics, Advertising is Manthan Systems\n"
          ],
          "name": "stdout"
        }
      ]
    },
    {
      "cell_type": "markdown",
      "metadata": {
        "colab_type": "text",
        "id": "AxOZkoHb8shc"
      },
      "source": [
        "## CHECKPOINT 6 : Plots"
      ]
    },
    {
      "cell_type": "markdown",
      "metadata": {
        "colab_type": "text",
        "id": "r2eQl5ZRKl-n"
      },
      "source": [
        "### PLOT 1"
      ]
    },
    {
      "cell_type": "code",
      "metadata": {
        "colab_type": "code",
        "id": "CbdDHqO5fCCR",
        "colab": {}
      },
      "source": [
        "group['average_funding_millions'] = group['average_funding']/1000000"
      ],
      "execution_count": 0,
      "outputs": []
    },
    {
      "cell_type": "code",
      "metadata": {
        "colab_type": "code",
        "id": "nMHgQogFq1Dr",
        "outputId": "180af111-a1bf-475c-d3d6-de9b1031ff03",
        "colab": {
          "base_uri": "https://localhost:8080/",
          "height": 761
        }
      },
      "source": [
        "plt.subplots(figsize=(12, 10)) #setting size of figure\n",
        "#sns.set(style=\"whitegrid\")\n",
        "plt.subplot(2,1,1)#1st subplot\n",
        "#code for bar chart - ignore\n",
        "#sns.barplot(x='funding_round_type' ,y ='percentage' ,data= group1, palette=\"Blues_d\").set(ylabel= 'Fraction/Percentage of total investments' ,xlabel = '')\n",
        "#plt.ylim(0, 80)\n",
        "\n",
        "explode = (0, 0, 0, 0.2)  #parameters for highlighting or seperating venture pie for better visualization\n",
        "plt.pie(group1.total_funding,explode= explode , labels=group1.funding_round_type, autopct='%1.1f%%', shadow=True,startangle=90)\n",
        "plt.axis('equal')\n",
        "plt.tight_layout()\n",
        "plt.subplot(2,1,2) #2nd subplot\n",
        "sns.set(style=\"whitegrid\")\n",
        "sns.barplot(x='funding_round_type' ,y ='average_funding_millions' ,data= group, palette=\"Blues_d\").set(xlabel ='Funding Round Type' , ylabel= 'Average Funding(in Millions)')\n",
        "plt.yticks(np.arange(0, 80, step=5)) \n",
        "plt.show()"
      ],
      "execution_count": 35,
      "outputs": [
        {
          "output_type": "display_data",
          "data": {
            "image/png": "[encoded data removed]",
            "text/plain": [
              "<Figure size 864x720 with 2 Axes>"
            ]
          },
          "metadata": {
            "tags": [],
            "needs_background": "light"
          }
        }
      ]
    },
    {
      "cell_type": "markdown",
      "metadata": {
        "colab_type": "text",
        "id": "R6W2o1UTKrba"
      },
      "source": [
        "### PLOT 2"
      ]
    },
    {
      "cell_type": "code",
      "metadata": {
        "colab_type": "code",
        "id": "83RjTKbwK-rS",
        "outputId": "7c65fb37-f462-4ac5-f4c4-fadc366c9643",
        "colab": {
          "base_uri": "https://localhost:8080/",
          "height": 720
        }
      },
      "source": [
        "top_countries = top9.reset_index()\n",
        "\n",
        "\n",
        "fig, ax = plt.subplots(figsize=(15,12))\n",
        "sns.set(style = 'whitegrid')# setting style of plot\n",
        "#sns.barplot(x = 'total_funding' , y ='country_code' , data = top_countries ,hue = 'English Speaking').set(xlabel ='Investments(in Billion USD)' , ylabel= 'Country')\n",
        "sns.barplot(x = 'total_funding' , y ='country_code' , data = top_countries,palette=\"Blues_d\" ).set(xlabel ='Investments(in 100 Billion USD)' , ylabel= 'Country')\n",
        "#to get values next to bar plots\n",
        "for i in ax.patches:\n",
        "    ax.text(i.get_width()+500, i.get_y()+0.5, '$ ' + str(round((i.get_width())/1000000000, 2))+ ' Billion',\n",
        "            fontsize=10, fontweight='bold', color='grey')\n",
        "plt.show()"
      ],
      "execution_count": 36,
      "outputs": [
        {
          "output_type": "display_data",
          "data": {
            "image/png": "[encoded data removed]",
            "text/plain": [
              "<Figure size 1080x864 with 1 Axes>"
            ]
          },
          "metadata": {
            "tags": []
          }
        }
      ]
    },
    {
      "cell_type": "markdown",
      "metadata": {
        "colab_type": "text",
        "id": "Ppz0PvOJflMS"
      },
      "source": [
        "#### The below code is written to differentiate between English speaking and non english speaking countries\n",
        "THIS CODE WILL FAIL TO RUN IF THE TOP 9 COUNTRIES CHANGE.PLEASE REFER TO THE ABOVE CHART IN THAT CASE "
      ]
    },
    {
      "cell_type": "code",
      "metadata": {
        "colab_type": "code",
        "id": "avthh_KKfi4M",
        "outputId": "c09e6489-eaa8-4045-b092-71aafb19aa12",
        "colab": {
          "base_uri": "https://localhost:8080/",
          "height": 731
        }
      },
      "source": [
        "\n",
        "import matplotlib.patches as mpatches\n",
        "top_countries = top9.reset_index()\n",
        "#adding feature to differentiate english speaking countries from others\n",
        "df = pd.DataFrame({'country_code':['USA','CHN','GBR','IND','CAN','FRA','ISR','DEU','JPN'], \n",
        "                    'English Speaking':['Yes','No','Yes','Yes','Yes','No','Yes','No','No'], \n",
        "                    }) \n",
        "top_countries = top_countries.merge(df , how = 'left' , on ='country_code')\n",
        "\n",
        "fig, ax = plt.subplots(figsize=(15,12))\n",
        "\n",
        "colors = {'Yes':'blue', 'No':'black'}\n",
        "\n",
        "ax.bar(top_countries['country_code'], top_countries['total_funding'], color=top_countries['English Speaking'].apply(lambda x: colors[x]))\n",
        "plt.ylabel('Investments(in 100 Billion USD)')\n",
        "plt.xlabel('Country')\n",
        "\n",
        "blue_patch = mpatches.Patch(color='blue', label='English speaking')\n",
        "black_patch = mpatches.Patch(color='black', label='Non English Speaking')\n",
        "plt.legend(handles=[blue_patch, black_patch])\n",
        "\n",
        "\n",
        "plt.show()"
      ],
      "execution_count": 37,
      "outputs": [
        {
          "output_type": "display_data",
          "data": {
            "image/png": "[encoded data removed]",
            "text/plain": [
              "<Figure size 1080x864 with 1 Axes>"
            ]
          },
          "metadata": {
            "tags": []
          }
        }
      ]
    },
    {
      "cell_type": "markdown",
      "metadata": {
        "colab_type": "text",
        "id": "ScFWsWBiQHMg"
      },
      "source": [
        "### PLOT 3"
      ]
    },
    {
      "cell_type": "code",
      "metadata": {
        "colab_type": "code",
        "id": "CucAJOpOVYH8",
        "colab": {}
      },
      "source": [
        "#formating data to make it easier to plot\n",
        "df1 = US.sort_values(by ='Investments_Count' ,ascending= False ).iloc[:3,:]\n",
        "df1['Country'] = 'USA'\n",
        "df2 = GB.sort_values(by ='Investments_Count' ,ascending= False ).iloc[:3,:]\n",
        "df2['Country'] = 'GBR'\n",
        "df3 = IN.sort_values(by ='Investments_Count' ,ascending= False ).iloc[:3,:]\n",
        "df3['Country'] = 'IND'\n",
        "df_plot = df1.append(df2).append(df3)\n",
        "#pi = df_plot.pivot_table(values= 'Investments_Count' ,columns= 'Country' , index= 'main_sector' ,aggfunc= sum ,fill_value=0)"
      ],
      "execution_count": 0,
      "outputs": []
    },
    {
      "cell_type": "code",
      "metadata": {
        "colab_type": "code",
        "id": "q9wro2OkNZEx",
        "outputId": "7a33b47b-9a91-46b2-8879-f462c8dae72f",
        "colab": {
          "base_uri": "https://localhost:8080/",
          "height": 830
        }
      },
      "source": [
        "fig, ax = plt.subplots(figsize=(15,12))\n",
        "sns.set(style = 'whitegrid')\n",
        "sns.barplot(x = 'Investments_Count' ,y ='Country',data =  df_plot ,hue = \n",
        "            'main_sector' ,palette= 'Blues_d').set(\n",
        "                xlabel ='Investments in different sectors' , ylabel= 'Country')\n",
        "#to get values next to bar plots(THIS WILL THROW WARNINGS , WHICH IS IGNORED)\n",
        "for i in ax.patches:\n",
        "    ax.text(i.get_width()+50, i.get_y()+0.1, str(round((i.get_width()), 2)),\n",
        "            fontsize=10, fontweight='bold', color='black')\n",
        "plt.show()"
      ],
      "execution_count": 39,
      "outputs": [
        {
          "output_type": "stream",
          "text": [
            "posx and posy should be finite values\n",
            "posx and posy should be finite values\n",
            "posx and posy should be finite values\n",
            "posx and posy should be finite values\n",
            "posx and posy should be finite values\n",
            "posx and posy should be finite values\n"
          ],
          "name": "stderr"
        },
        {
          "output_type": "display_data",
          "data": {
            "image/png": "[encoded data removed]",
            "text/plain": [
              "<Figure size 1080x864 with 1 Axes>"
            ]
          },
          "metadata": {
            "tags": []
          }
        }
      ]
    }
  ]
}